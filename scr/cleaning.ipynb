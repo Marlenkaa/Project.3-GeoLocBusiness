{
 "cells": [
  {
   "cell_type": "code",
   "execution_count": 1,
   "metadata": {},
   "outputs": [],
   "source": [
    "from pymongo import MongoClient\n",
    "import pandas as pd\n",
    "import json\n",
    "import cleaning as f"
   ]
  },
  {
   "cell_type": "markdown",
   "metadata": {},
   "source": [
    "# Data cleaning"
   ]
  },
  {
   "cell_type": "markdown",
   "metadata": {},
   "source": [
    "#### Se hace una pequeña limpieza y primeros filtros para las siguientes tomas de decisiones"
   ]
  },
  {
   "cell_type": "markdown",
   "metadata": {},
   "source": [
    "- Importamos base de datos de compañías"
   ]
  },
  {
   "cell_type": "code",
   "execution_count": 2,
   "metadata": {},
   "outputs": [],
   "source": [
    "client = MongoClient(\"mongodb://localhost/companies\")"
   ]
  },
  {
   "cell_type": "code",
   "execution_count": 3,
   "metadata": {},
   "outputs": [],
   "source": [
    "db = client.get_database()"
   ]
  },
  {
   "cell_type": "code",
   "execution_count": 4,
   "metadata": {},
   "outputs": [],
   "source": [
    "pd.set_option('display.max_rows', None)\n",
    "pd.set_option('display.max_columns', None)"
   ]
  },
  {
   "cell_type": "markdown",
   "metadata": {},
   "source": [
    "- Filtramos por empresas vivas y convertimos en DataFrame para poder operar"
   ]
  },
  {
   "cell_type": "code",
   "execution_count": 5,
   "metadata": {},
   "outputs": [],
   "source": [
    "query = {'deadpooled_year':{'$eq':None}}"
   ]
  },
  {
   "cell_type": "code",
   "execution_count": 6,
   "metadata": {},
   "outputs": [],
   "source": [
    "data = list(db[\"companies\"].find(query,{\"_id\":0,\"name\":1,\"category_code\":1,\"number_of_employees\":1,\"founded_year\":1,\"deadpooled_year\":1,\"total_money_raised\":1,\"offices\":1}))\n",
    "\n",
    "df = pd.DataFrame(data)"
   ]
  },
  {
   "cell_type": "markdown",
   "metadata": {},
   "source": [
    "- Aplicamos la función que expande la columna de 'offices' y genera una nueva columna 'location' con el formato correcto de las coordenadas"
   ]
  },
  {
   "cell_type": "code",
   "execution_count": 7,
   "metadata": {},
   "outputs": [],
   "source": [
    "df2 = f.officesClean(df)"
   ]
  },
  {
   "cell_type": "code",
   "execution_count": 8,
   "metadata": {},
   "outputs": [
    {
     "data": {
      "text/html": [
       "<div>\n",
       "<style scoped>\n",
       "    .dataframe tbody tr th:only-of-type {\n",
       "        vertical-align: middle;\n",
       "    }\n",
       "\n",
       "    .dataframe tbody tr th {\n",
       "        vertical-align: top;\n",
       "    }\n",
       "\n",
       "    .dataframe thead th {\n",
       "        text-align: right;\n",
       "    }\n",
       "</style>\n",
       "<table border=\"1\" class=\"dataframe\">\n",
       "  <thead>\n",
       "    <tr style=\"text-align: right;\">\n",
       "      <th></th>\n",
       "      <th>name</th>\n",
       "      <th>category_code</th>\n",
       "      <th>number_of_employees</th>\n",
       "      <th>founded_year</th>\n",
       "      <th>deadpooled_year</th>\n",
       "      <th>total_money_raised</th>\n",
       "      <th>description</th>\n",
       "      <th>address1</th>\n",
       "      <th>address2</th>\n",
       "      <th>zip_code</th>\n",
       "      <th>city</th>\n",
       "      <th>state_code</th>\n",
       "      <th>country_code</th>\n",
       "      <th>latitude</th>\n",
       "      <th>longitude</th>\n",
       "      <th>location</th>\n",
       "    </tr>\n",
       "  </thead>\n",
       "  <tbody>\n",
       "    <tr>\n",
       "      <th>0</th>\n",
       "      <td>Postini</td>\n",
       "      <td>web</td>\n",
       "      <td>NaN</td>\n",
       "      <td>1999.0</td>\n",
       "      <td>None</td>\n",
       "      <td>$0</td>\n",
       "      <td>None</td>\n",
       "      <td>959 Skyway Road, Suite 200</td>\n",
       "      <td>None</td>\n",
       "      <td>94070</td>\n",
       "      <td>San Carlos</td>\n",
       "      <td>CA</td>\n",
       "      <td>USA</td>\n",
       "      <td>37.506885</td>\n",
       "      <td>-122.247573</td>\n",
       "      <td>{'type': 'Point', 'coordinates': [-122.247573,...</td>\n",
       "    </tr>\n",
       "    <tr>\n",
       "      <th>1</th>\n",
       "      <td>Digg</td>\n",
       "      <td>news</td>\n",
       "      <td>60.0</td>\n",
       "      <td>2004.0</td>\n",
       "      <td>None</td>\n",
       "      <td>$45M</td>\n",
       "      <td>None</td>\n",
       "      <td>135 Mississippi St</td>\n",
       "      <td></td>\n",
       "      <td>94107</td>\n",
       "      <td>San Francisco</td>\n",
       "      <td>CA</td>\n",
       "      <td>USA</td>\n",
       "      <td>37.764726</td>\n",
       "      <td>-122.394523</td>\n",
       "      <td>{'type': 'Point', 'coordinates': [-122.394523,...</td>\n",
       "    </tr>\n",
       "    <tr>\n",
       "      <th>2</th>\n",
       "      <td>Flektor</td>\n",
       "      <td>games_video</td>\n",
       "      <td>NaN</td>\n",
       "      <td>NaN</td>\n",
       "      <td>None</td>\n",
       "      <td>$0</td>\n",
       "      <td>None</td>\n",
       "      <td>8536 National Blvd, Suite A</td>\n",
       "      <td>None</td>\n",
       "      <td>90232</td>\n",
       "      <td>Culver City</td>\n",
       "      <td>CA</td>\n",
       "      <td>USA</td>\n",
       "      <td>34.025958</td>\n",
       "      <td>-118.379768</td>\n",
       "      <td>{'type': 'Point', 'coordinates': [-118.379768,...</td>\n",
       "    </tr>\n",
       "    <tr>\n",
       "      <th>3</th>\n",
       "      <td>Fox Interactive Media</td>\n",
       "      <td>web</td>\n",
       "      <td>0.0</td>\n",
       "      <td>1979.0</td>\n",
       "      <td>None</td>\n",
       "      <td>$0</td>\n",
       "      <td></td>\n",
       "      <td>407 N Maple Dr</td>\n",
       "      <td></td>\n",
       "      <td>90210</td>\n",
       "      <td>Beverly Hills</td>\n",
       "      <td>CA</td>\n",
       "      <td>USA</td>\n",
       "      <td>34.076179</td>\n",
       "      <td>-118.394170</td>\n",
       "      <td>{'type': 'Point', 'coordinates': [-118.39417, ...</td>\n",
       "    </tr>\n",
       "    <tr>\n",
       "      <th>4</th>\n",
       "      <td>Geni</td>\n",
       "      <td>web</td>\n",
       "      <td>18.0</td>\n",
       "      <td>2006.0</td>\n",
       "      <td>None</td>\n",
       "      <td>$16.5M</td>\n",
       "      <td>Headquarters</td>\n",
       "      <td>9229 W. Sunset Blvd.</td>\n",
       "      <td></td>\n",
       "      <td>90069</td>\n",
       "      <td>West Hollywood</td>\n",
       "      <td>CA</td>\n",
       "      <td>USA</td>\n",
       "      <td>34.090368</td>\n",
       "      <td>-118.393064</td>\n",
       "      <td>{'type': 'Point', 'coordinates': [-118.393064,...</td>\n",
       "    </tr>\n",
       "  </tbody>\n",
       "</table>\n",
       "</div>"
      ],
      "text/plain": [
       "                    name category_code  number_of_employees  founded_year  \\\n",
       "0                Postini           web                  NaN        1999.0   \n",
       "1                   Digg          news                 60.0        2004.0   \n",
       "2                Flektor   games_video                  NaN           NaN   \n",
       "3  Fox Interactive Media           web                  0.0        1979.0   \n",
       "4                   Geni           web                 18.0        2006.0   \n",
       "\n",
       "  deadpooled_year total_money_raised   description  \\\n",
       "0            None                 $0          None   \n",
       "1            None               $45M          None   \n",
       "2            None                 $0          None   \n",
       "3            None                 $0                 \n",
       "4            None             $16.5M  Headquarters   \n",
       "\n",
       "                      address1 address2 zip_code            city state_code  \\\n",
       "0   959 Skyway Road, Suite 200     None    94070      San Carlos         CA   \n",
       "1           135 Mississippi St             94107   San Francisco         CA   \n",
       "2  8536 National Blvd, Suite A     None    90232     Culver City         CA   \n",
       "3               407 N Maple Dr             90210   Beverly Hills         CA   \n",
       "4         9229 W. Sunset Blvd.             90069  West Hollywood         CA   \n",
       "\n",
       "  country_code   latitude   longitude  \\\n",
       "0          USA  37.506885 -122.247573   \n",
       "1          USA  37.764726 -122.394523   \n",
       "2          USA  34.025958 -118.379768   \n",
       "3          USA  34.076179 -118.394170   \n",
       "4          USA  34.090368 -118.393064   \n",
       "\n",
       "                                            location  \n",
       "0  {'type': 'Point', 'coordinates': [-122.247573,...  \n",
       "1  {'type': 'Point', 'coordinates': [-122.394523,...  \n",
       "2  {'type': 'Point', 'coordinates': [-118.379768,...  \n",
       "3  {'type': 'Point', 'coordinates': [-118.39417, ...  \n",
       "4  {'type': 'Point', 'coordinates': [-118.393064,...  "
      ]
     },
     "execution_count": 8,
     "metadata": {},
     "output_type": "execute_result"
    }
   ],
   "source": [
    "df2.head()"
   ]
  },
  {
   "cell_type": "markdown",
   "metadata": {},
   "source": [
    "- Exportamos como json para hacer consultas/modificar información"
   ]
  },
  {
   "cell_type": "code",
   "execution_count": null,
   "metadata": {},
   "outputs": [],
   "source": [
    "df2.to_json(\"../OUTPUT/first_order\", orient=\"records\")"
   ]
  },
  {
   "cell_type": "markdown",
   "metadata": {},
   "source": [
    "- Importamos de nuevo el primer json limpio y filtramos solo por localizaciones con coordenadas"
   ]
  },
  {
   "cell_type": "code",
   "execution_count": 9,
   "metadata": {},
   "outputs": [],
   "source": [
    "query2 = {'location':{'$ne':None}}"
   ]
  },
  {
   "cell_type": "code",
   "execution_count": 10,
   "metadata": {},
   "outputs": [],
   "source": [
    "data2 = list(db[\"first_order\"].find(query2,{\"_id\":0}))\n",
    "\n",
    "first_order = pd.DataFrame(data2)"
   ]
  },
  {
   "cell_type": "markdown",
   "metadata": {},
   "source": [
    "- Categorizamos las compañías según actividad para quedarnos solo con las tecnológicas"
   ]
  },
  {
   "cell_type": "code",
   "execution_count": 11,
   "metadata": {},
   "outputs": [],
   "source": [
    "tech_comp = [\"web\",\"software\",\"mobile\",\"games_video\",\"ecommerce\",\"network_hosting\",\"hardware\",\"biotech\",\"cleantech\",\"analytics\",\"semiconductor\",\"photo_video\",\"software\",\"nanotech\"]\n",
    "\n",
    "first_order[\"tech_company\"] = df[\"category_code\"].apply(lambda x: \"yes\" if x in tech_comp else \"no\")"
   ]
  },
  {
   "cell_type": "markdown",
   "metadata": {},
   "source": [
    "- Comprobamos que la mayoría de las empresas tecnológicas se sitúan en San Francisco, por tanto, ésta será la ciudad en la que buscaremos donde posicionarnos"
   ]
  },
  {
   "cell_type": "code",
   "execution_count": 12,
   "metadata": {},
   "outputs": [
    {
     "data": {
      "text/plain": [
       "San Francisco    399\n",
       "New York         335\n",
       "London           184\n",
       "                 153\n",
       "Seattle           90\n",
       "Name: city, dtype: int64"
      ]
     },
     "execution_count": 12,
     "metadata": {},
     "output_type": "execute_result"
    }
   ],
   "source": [
    "tech = first_order['tech_company'] == 'yes'\n",
    "filt = first_order[tech]\n",
    "\n",
    "filt.city.value_counts().head(5)"
   ]
  },
  {
   "cell_type": "markdown",
   "metadata": {},
   "source": [
    "- Exportamos de nuevo el fichero ya limpio con todas las coordenadas y solo empresas con actividad en el área tecnológica"
   ]
  },
  {
   "cell_type": "code",
   "execution_count": null,
   "metadata": {},
   "outputs": [],
   "source": [
    "first_order.to_json(\"../OUTPUT/cleaned_companies\", orient=\"records\")"
   ]
  }
 ],
 "metadata": {
  "kernelspec": {
   "display_name": "Python 3",
   "language": "python",
   "name": "python3"
  },
  "language_info": {
   "codemirror_mode": {
    "name": "ipython",
    "version": 3
   },
   "file_extension": ".py",
   "mimetype": "text/x-python",
   "name": "python",
   "nbconvert_exporter": "python",
   "pygments_lexer": "ipython3",
   "version": "3.6.9"
  }
 },
 "nbformat": 4,
 "nbformat_minor": 2
}
