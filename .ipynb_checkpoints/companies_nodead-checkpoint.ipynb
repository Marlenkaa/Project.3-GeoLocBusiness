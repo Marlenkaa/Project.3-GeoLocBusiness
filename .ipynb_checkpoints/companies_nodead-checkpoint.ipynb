{
 "cells": [
  {
   "cell_type": "code",
   "execution_count": 1,
   "metadata": {},
   "outputs": [],
   "source": [
    "from pymongo import MongoClient\n",
    "import pandas as pd\n",
    "import functions as f\n",
    "import folium\n",
    "from folium import Choropleth, Circle, Marker\n",
    "from folium.plugins import HeatMap, MarkerCluster"
   ]
  },
  {
   "cell_type": "code",
   "execution_count": 2,
   "metadata": {},
   "outputs": [],
   "source": [
    "client = MongoClient(\"mongodb://localhost/companies\")"
   ]
  },
  {
   "cell_type": "code",
   "execution_count": 3,
   "metadata": {},
   "outputs": [],
   "source": [
    "db = client.get_database()"
   ]
  },
  {
   "cell_type": "code",
   "execution_count": 4,
   "metadata": {},
   "outputs": [],
   "source": [
    "pd.set_option('display.max_rows', None)\n",
    "pd.set_option('display.max_columns', None)"
   ]
  },
  {
   "cell_type": "code",
   "execution_count": 5,
   "metadata": {},
   "outputs": [],
   "source": [
    "query = {'location':{'$ne':None}}"
   ]
  },
  {
   "cell_type": "code",
   "execution_count": 6,
   "metadata": {},
   "outputs": [],
   "source": [
    "data = list(db[\"cleaned_companies\"].find(query))\n",
    "\n",
    "df = pd.DataFrame(data)"
   ]
  },
  {
   "cell_type": "code",
   "execution_count": 9,
   "metadata": {},
   "outputs": [
    {
     "data": {
      "text/plain": [
       "San Francisco    56\n",
       "Name: city, dtype: int64"
      ]
     },
     "execution_count": 9,
     "metadata": {},
     "output_type": "execute_result"
    }
   ],
   "source": [
    "df.city.value_counts().head(1)"
   ]
  },
  {
   "cell_type": "code",
   "execution_count": 18,
   "metadata": {},
   "outputs": [
    {
     "name": "stdout",
     "output_type": "stream",
     "text": [
      "37.775196    7\n",
      "Name: latitude, dtype: int64\n",
      "-122.419204    7\n",
      "Name: longitude, dtype: int64\n"
     ]
    }
   ],
   "source": [
    "sf = df['city'] == 'San Francisco'\n",
    "df2 = df[sf]\n",
    "print(df2.latitude.value_counts().head(1))\n",
    "print(df2.longitude.value_counts().head(1))"
   ]
  },
  {
   "cell_type": "code",
   "execution_count": 19,
   "metadata": {},
   "outputs": [],
   "source": [
    "start_lat = 37.775196\n",
    "start_lon = -122.419204\n",
    "heat_m = folium.Map(location=[start_lat, start_lon],tiles='cartodbpositron', zoom_start=15)"
   ]
  },
  {
   "cell_type": "code",
   "execution_count": 20,
   "metadata": {},
   "outputs": [
    {
     "data": {
      "text/html": [
       "<div style=\"width:100%;\"><div style=\"position:relative;width:100%;height:0;padding-bottom:60%;\"><iframe src=\"data:text/html;charset=utf-8;base64,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\" style=\"position:absolute;width:100%;height:100%;left:0;top:0;border:none !important;\" allowfullscreen webkitallowfullscreen mozallowfullscreen></iframe></div></div>"
      ],
      "text/plain": [
       "<folium.folium.Map at 0x7f384004b748>"
      ]
     },
     "execution_count": 20,
     "metadata": {},
     "output_type": "execute_result"
    }
   ],
   "source": [
    "uni_lon, uni_lat = -122.419204, 37.775196\n",
    "Marker([uni_lat, uni_lon], icon=folium.Icon(color='red')).add_to(heat_m)\n",
    "heat_m"
   ]
  },
  {
   "cell_type": "code",
   "execution_count": 21,
   "metadata": {},
   "outputs": [
    {
     "data": {
      "text/html": [
       "<div style=\"width:100%;\"><div style=\"position:relative;width:100%;height:0;padding-bottom:60%;\"><iframe src=\"data:text/html;charset=utf-8;base64,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\" style=\"position:absolute;width:100%;height:100%;left:0;top:0;border:none !important;\" allowfullscreen webkitallowfullscreen mozallowfullscreen></iframe></div></div>"
      ],
      "text/plain": [
       "<folium.folium.Map at 0x7f384004b748>"
      ]
     },
     "execution_count": 21,
     "metadata": {},
     "output_type": "execute_result"
    }
   ],
   "source": [
    "sf_co = df[df.city=='San Francisco']\n",
    "\n",
    "sf_co_group = folium.FeatureGroup(name='Sf_companies')\n",
    "\n",
    "HeatMap(data=sf_co[['latitude', 'longitude']]).add_to(sf_co_group)\n",
    "\n",
    "sf_co_group.add_to(heat_m)\n",
    "\n",
    "heat_m"
   ]
  },
  {
   "cell_type": "code",
   "execution_count": 12,
   "metadata": {},
   "outputs": [
    {
     "data": {
      "text/html": [
       "<div>\n",
       "<style scoped>\n",
       "    .dataframe tbody tr th:only-of-type {\n",
       "        vertical-align: middle;\n",
       "    }\n",
       "\n",
       "    .dataframe tbody tr th {\n",
       "        vertical-align: top;\n",
       "    }\n",
       "\n",
       "    .dataframe thead th {\n",
       "        text-align: right;\n",
       "    }\n",
       "</style>\n",
       "<table border=\"1\" class=\"dataframe\">\n",
       "  <thead>\n",
       "    <tr style=\"text-align: right;\">\n",
       "      <th></th>\n",
       "      <th>_id</th>\n",
       "      <th>name</th>\n",
       "      <th>category_code</th>\n",
       "      <th>number_of_employees</th>\n",
       "      <th>founded_year</th>\n",
       "      <th>deadpooled_year</th>\n",
       "      <th>total_money_raised</th>\n",
       "      <th>description</th>\n",
       "      <th>address1</th>\n",
       "      <th>address2</th>\n",
       "      <th>zip_code</th>\n",
       "      <th>city</th>\n",
       "      <th>state_code</th>\n",
       "      <th>country_code</th>\n",
       "      <th>latitude</th>\n",
       "      <th>longitude</th>\n",
       "      <th>location</th>\n",
       "    </tr>\n",
       "  </thead>\n",
       "  <tbody>\n",
       "    <tr>\n",
       "      <th>0</th>\n",
       "      <td>5e412a2864cd2e12b8cd4bfe</td>\n",
       "      <td>Wetpaint</td>\n",
       "      <td>web</td>\n",
       "      <td>47.0</td>\n",
       "      <td>2005.0</td>\n",
       "      <td>1</td>\n",
       "      <td>$39.8M</td>\n",
       "      <td></td>\n",
       "      <td>710 - 2nd Avenue</td>\n",
       "      <td>Suite 1100</td>\n",
       "      <td>98104</td>\n",
       "      <td>Seattle</td>\n",
       "      <td>WA</td>\n",
       "      <td>USA</td>\n",
       "      <td>47.603122</td>\n",
       "      <td>-122.333253</td>\n",
       "      <td>{'type': 'Point', 'coordinates': [-122.333253,...</td>\n",
       "    </tr>\n",
       "    <tr>\n",
       "      <th>1</th>\n",
       "      <td>5e412a2864cd2e12b8cd4bff</td>\n",
       "      <td>Zoho</td>\n",
       "      <td>software</td>\n",
       "      <td>1600.0</td>\n",
       "      <td>2005.0</td>\n",
       "      <td>3</td>\n",
       "      <td>$0</td>\n",
       "      <td>Headquarters</td>\n",
       "      <td>4900 Hopyard Rd</td>\n",
       "      <td>Suite 310</td>\n",
       "      <td>94588</td>\n",
       "      <td>Pleasanton</td>\n",
       "      <td>CA</td>\n",
       "      <td>USA</td>\n",
       "      <td>37.692934</td>\n",
       "      <td>-121.904945</td>\n",
       "      <td>{'type': 'Point', 'coordinates': [-121.904945,...</td>\n",
       "    </tr>\n",
       "    <tr>\n",
       "      <th>2</th>\n",
       "      <td>5e412a2864cd2e12b8cd4c00</td>\n",
       "      <td>AdventNet</td>\n",
       "      <td>enterprise</td>\n",
       "      <td>600.0</td>\n",
       "      <td>1996.0</td>\n",
       "      <td>2</td>\n",
       "      <td>$0</td>\n",
       "      <td>Headquarters</td>\n",
       "      <td>4900 Hopyard Rd.</td>\n",
       "      <td>Suite 310</td>\n",
       "      <td>94588</td>\n",
       "      <td>Pleasanton</td>\n",
       "      <td>CA</td>\n",
       "      <td>USA</td>\n",
       "      <td>37.692934</td>\n",
       "      <td>-121.904945</td>\n",
       "      <td>{'type': 'Point', 'coordinates': [-121.904945,...</td>\n",
       "    </tr>\n",
       "    <tr>\n",
       "      <th>3</th>\n",
       "      <td>5e412a2864cd2e12b8cd4c01</td>\n",
       "      <td>Babelgum</td>\n",
       "      <td>games_video</td>\n",
       "      <td>NaN</td>\n",
       "      <td>2007.0</td>\n",
       "      <td>2013</td>\n",
       "      <td>$13.2M</td>\n",
       "      <td></td>\n",
       "      <td></td>\n",
       "      <td></td>\n",
       "      <td></td>\n",
       "      <td>London</td>\n",
       "      <td>None</td>\n",
       "      <td>GBR</td>\n",
       "      <td>53.344104</td>\n",
       "      <td>-6.267494</td>\n",
       "      <td>{'type': 'Point', 'coordinates': [-6.267494, 5...</td>\n",
       "    </tr>\n",
       "    <tr>\n",
       "      <th>4</th>\n",
       "      <td>5e412a2864cd2e12b8cd4c02</td>\n",
       "      <td>Thoof</td>\n",
       "      <td>web</td>\n",
       "      <td>NaN</td>\n",
       "      <td>2006.0</td>\n",
       "      <td>2013</td>\n",
       "      <td>$1M</td>\n",
       "      <td>None</td>\n",
       "      <td>None</td>\n",
       "      <td>None</td>\n",
       "      <td>None</td>\n",
       "      <td>Austin</td>\n",
       "      <td>TX</td>\n",
       "      <td>USA</td>\n",
       "      <td>30.268735</td>\n",
       "      <td>-97.745209</td>\n",
       "      <td>{'type': 'Point', 'coordinates': [-97.745209, ...</td>\n",
       "    </tr>\n",
       "  </tbody>\n",
       "</table>\n",
       "</div>"
      ],
      "text/plain": [
       "                        _id       name category_code  number_of_employees  \\\n",
       "0  5e412a2864cd2e12b8cd4bfe   Wetpaint           web                 47.0   \n",
       "1  5e412a2864cd2e12b8cd4bff       Zoho      software               1600.0   \n",
       "2  5e412a2864cd2e12b8cd4c00  AdventNet    enterprise                600.0   \n",
       "3  5e412a2864cd2e12b8cd4c01   Babelgum   games_video                  NaN   \n",
       "4  5e412a2864cd2e12b8cd4c02      Thoof           web                  NaN   \n",
       "\n",
       "   founded_year  deadpooled_year total_money_raised   description  \\\n",
       "0        2005.0                1             $39.8M                 \n",
       "1        2005.0                3                 $0  Headquarters   \n",
       "2        1996.0                2                 $0  Headquarters   \n",
       "3        2007.0             2013             $13.2M                 \n",
       "4        2006.0             2013                $1M          None   \n",
       "\n",
       "           address1    address2 zip_code        city state_code country_code  \\\n",
       "0  710 - 2nd Avenue  Suite 1100    98104     Seattle         WA          USA   \n",
       "1   4900 Hopyard Rd   Suite 310    94588  Pleasanton         CA          USA   \n",
       "2  4900 Hopyard Rd.   Suite 310    94588  Pleasanton         CA          USA   \n",
       "3                                             London       None          GBR   \n",
       "4              None        None     None      Austin         TX          USA   \n",
       "\n",
       "    latitude   longitude                                           location  \n",
       "0  47.603122 -122.333253  {'type': 'Point', 'coordinates': [-122.333253,...  \n",
       "1  37.692934 -121.904945  {'type': 'Point', 'coordinates': [-121.904945,...  \n",
       "2  37.692934 -121.904945  {'type': 'Point', 'coordinates': [-121.904945,...  \n",
       "3  53.344104   -6.267494  {'type': 'Point', 'coordinates': [-6.267494, 5...  \n",
       "4  30.268735  -97.745209  {'type': 'Point', 'coordinates': [-97.745209, ...  "
      ]
     },
     "execution_count": 12,
     "metadata": {},
     "output_type": "execute_result"
    }
   ],
   "source": [
    "df.head()"
   ]
  }
 ],
 "metadata": {
  "kernelspec": {
   "display_name": "Python 3",
   "language": "python",
   "name": "python3"
  },
  "language_info": {
   "codemirror_mode": {
    "name": "ipython",
    "version": 3
   },
   "file_extension": ".py",
   "mimetype": "text/x-python",
   "name": "python",
   "nbconvert_exporter": "python",
   "pygments_lexer": "ipython3",
   "version": "3.6.9"
  }
 },
 "nbformat": 4,
 "nbformat_minor": 2
}
