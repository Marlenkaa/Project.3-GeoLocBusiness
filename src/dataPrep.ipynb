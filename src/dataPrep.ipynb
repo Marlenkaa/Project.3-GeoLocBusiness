{
 "cells": [
  {
   "cell_type": "code",
   "execution_count": 1,
   "metadata": {},
   "outputs": [],
   "source": [
    "from pymongo import MongoClient\n",
    "import pandas as pd\n",
    "import json\n",
    "import dataPrep as f"
   ]
  },
  {
   "cell_type": "markdown",
   "metadata": {},
   "source": [
    "# Data cleaning y obtención de datos"
   ]
  },
  {
   "cell_type": "markdown",
   "metadata": {},
   "source": [
    "#### Lanzamiento de solicitudes mediante API, pequeña limpieza y primeros filtros en los diferentes dataset de lugares de interés, con el objetivo de preparación para la toma de decisiones y plasmar los resultados en un mapa de Folium."
   ]
  },
  {
   "cell_type": "markdown",
   "metadata": {},
   "source": [
    "#### COMPAÑIAS"
   ]
  },
  {
   "cell_type": "markdown",
   "metadata": {},
   "source": [
    "- Importamos base de datos de compañías"
   ]
  },
  {
   "cell_type": "code",
   "execution_count": 2,
   "metadata": {},
   "outputs": [],
   "source": [
    "client = MongoClient(\"mongodb://localhost/companies\")"
   ]
  },
  {
   "cell_type": "code",
   "execution_count": 3,
   "metadata": {},
   "outputs": [],
   "source": [
    "db = client.get_database()"
   ]
  },
  {
   "cell_type": "code",
   "execution_count": 4,
   "metadata": {},
   "outputs": [],
   "source": [
    "pd.set_option('display.max_rows', None)\n",
    "pd.set_option('display.max_columns', None)"
   ]
  },
  {
   "cell_type": "markdown",
   "metadata": {},
   "source": [
    "- Filtramos por empresas vivas y convertimos en DataFrame para poder operar"
   ]
  },
  {
   "cell_type": "code",
   "execution_count": 5,
   "metadata": {},
   "outputs": [],
   "source": [
    "query = {'deadpooled_year':{'$eq':None}}"
   ]
  },
  {
   "cell_type": "code",
   "execution_count": 6,
   "metadata": {},
   "outputs": [],
   "source": [
    "data = list(db[\"companies\"].find(query,{\"_id\":0,\"name\":1,\"category_code\":1,\"number_of_employees\":1,\"founded_year\":1,\"deadpooled_year\":1,\"total_money_raised\":1,\"offices\":1}))\n",
    "\n",
    "df = pd.DataFrame(data)"
   ]
  },
  {
   "cell_type": "code",
   "execution_count": 7,
   "metadata": {},
   "outputs": [
    {
     "data": {
      "text/html": [
       "<div>\n",
       "<style scoped>\n",
       "    .dataframe tbody tr th:only-of-type {\n",
       "        vertical-align: middle;\n",
       "    }\n",
       "\n",
       "    .dataframe tbody tr th {\n",
       "        vertical-align: top;\n",
       "    }\n",
       "\n",
       "    .dataframe thead th {\n",
       "        text-align: right;\n",
       "    }\n",
       "</style>\n",
       "<table border=\"1\" class=\"dataframe\">\n",
       "  <thead>\n",
       "    <tr style=\"text-align: right;\">\n",
       "      <th></th>\n",
       "      <th>name</th>\n",
       "      <th>category_code</th>\n",
       "      <th>number_of_employees</th>\n",
       "      <th>founded_year</th>\n",
       "      <th>deadpooled_year</th>\n",
       "      <th>total_money_raised</th>\n",
       "      <th>offices</th>\n",
       "    </tr>\n",
       "  </thead>\n",
       "  <tbody>\n",
       "    <tr>\n",
       "      <th>0</th>\n",
       "      <td>Postini</td>\n",
       "      <td>web</td>\n",
       "      <td>NaN</td>\n",
       "      <td>1999.0</td>\n",
       "      <td>None</td>\n",
       "      <td>$0</td>\n",
       "      <td>[{'description': None, 'address1': '959 Skyway...</td>\n",
       "    </tr>\n",
       "    <tr>\n",
       "      <th>1</th>\n",
       "      <td>Digg</td>\n",
       "      <td>news</td>\n",
       "      <td>60.0</td>\n",
       "      <td>2004.0</td>\n",
       "      <td>None</td>\n",
       "      <td>$45M</td>\n",
       "      <td>[{'description': None, 'address1': '135 Missis...</td>\n",
       "    </tr>\n",
       "    <tr>\n",
       "      <th>2</th>\n",
       "      <td>Flektor</td>\n",
       "      <td>games_video</td>\n",
       "      <td>NaN</td>\n",
       "      <td>NaN</td>\n",
       "      <td>None</td>\n",
       "      <td>$0</td>\n",
       "      <td>[{'description': None, 'address1': '8536 Natio...</td>\n",
       "    </tr>\n",
       "    <tr>\n",
       "      <th>3</th>\n",
       "      <td>Fox Interactive Media</td>\n",
       "      <td>web</td>\n",
       "      <td>0.0</td>\n",
       "      <td>1979.0</td>\n",
       "      <td>None</td>\n",
       "      <td>$0</td>\n",
       "      <td>[{'description': '', 'address1': '407 N Maple ...</td>\n",
       "    </tr>\n",
       "    <tr>\n",
       "      <th>4</th>\n",
       "      <td>Geni</td>\n",
       "      <td>web</td>\n",
       "      <td>18.0</td>\n",
       "      <td>2006.0</td>\n",
       "      <td>None</td>\n",
       "      <td>$16.5M</td>\n",
       "      <td>[{'description': 'Headquarters', 'address1': '...</td>\n",
       "    </tr>\n",
       "  </tbody>\n",
       "</table>\n",
       "</div>"
      ],
      "text/plain": [
       "                    name category_code  number_of_employees  founded_year  \\\n",
       "0                Postini           web                  NaN        1999.0   \n",
       "1                   Digg          news                 60.0        2004.0   \n",
       "2                Flektor   games_video                  NaN           NaN   \n",
       "3  Fox Interactive Media           web                  0.0        1979.0   \n",
       "4                   Geni           web                 18.0        2006.0   \n",
       "\n",
       "  deadpooled_year total_money_raised  \\\n",
       "0            None                 $0   \n",
       "1            None               $45M   \n",
       "2            None                 $0   \n",
       "3            None                 $0   \n",
       "4            None             $16.5M   \n",
       "\n",
       "                                             offices  \n",
       "0  [{'description': None, 'address1': '959 Skyway...  \n",
       "1  [{'description': None, 'address1': '135 Missis...  \n",
       "2  [{'description': None, 'address1': '8536 Natio...  \n",
       "3  [{'description': '', 'address1': '407 N Maple ...  \n",
       "4  [{'description': 'Headquarters', 'address1': '...  "
      ]
     },
     "execution_count": 7,
     "metadata": {},
     "output_type": "execute_result"
    }
   ],
   "source": [
    "df.head()"
   ]
  },
  {
   "cell_type": "markdown",
   "metadata": {},
   "source": [
    "- Aplicamos la función que expande la columna de 'offices' y genera una nueva columna 'location' con el formato correcto de las coordenadas"
   ]
  },
  {
   "cell_type": "code",
   "execution_count": 8,
   "metadata": {},
   "outputs": [],
   "source": [
    "df2 = f.officesClean(df)"
   ]
  },
  {
   "cell_type": "code",
   "execution_count": 9,
   "metadata": {},
   "outputs": [
    {
     "data": {
      "text/html": [
       "<div>\n",
       "<style scoped>\n",
       "    .dataframe tbody tr th:only-of-type {\n",
       "        vertical-align: middle;\n",
       "    }\n",
       "\n",
       "    .dataframe tbody tr th {\n",
       "        vertical-align: top;\n",
       "    }\n",
       "\n",
       "    .dataframe thead th {\n",
       "        text-align: right;\n",
       "    }\n",
       "</style>\n",
       "<table border=\"1\" class=\"dataframe\">\n",
       "  <thead>\n",
       "    <tr style=\"text-align: right;\">\n",
       "      <th></th>\n",
       "      <th>name</th>\n",
       "      <th>category_code</th>\n",
       "      <th>number_of_employees</th>\n",
       "      <th>founded_year</th>\n",
       "      <th>deadpooled_year</th>\n",
       "      <th>total_money_raised</th>\n",
       "      <th>description</th>\n",
       "      <th>address1</th>\n",
       "      <th>address2</th>\n",
       "      <th>zip_code</th>\n",
       "      <th>city</th>\n",
       "      <th>state_code</th>\n",
       "      <th>country_code</th>\n",
       "      <th>latitude</th>\n",
       "      <th>longitude</th>\n",
       "      <th>location</th>\n",
       "    </tr>\n",
       "  </thead>\n",
       "  <tbody>\n",
       "    <tr>\n",
       "      <th>0</th>\n",
       "      <td>Postini</td>\n",
       "      <td>web</td>\n",
       "      <td>NaN</td>\n",
       "      <td>1999.0</td>\n",
       "      <td>None</td>\n",
       "      <td>$0</td>\n",
       "      <td>None</td>\n",
       "      <td>959 Skyway Road, Suite 200</td>\n",
       "      <td>None</td>\n",
       "      <td>94070</td>\n",
       "      <td>San Carlos</td>\n",
       "      <td>CA</td>\n",
       "      <td>USA</td>\n",
       "      <td>37.506885</td>\n",
       "      <td>-122.247573</td>\n",
       "      <td>{'type': 'Point', 'coordinates': [-122.247573,...</td>\n",
       "    </tr>\n",
       "    <tr>\n",
       "      <th>1</th>\n",
       "      <td>Digg</td>\n",
       "      <td>news</td>\n",
       "      <td>60.0</td>\n",
       "      <td>2004.0</td>\n",
       "      <td>None</td>\n",
       "      <td>$45M</td>\n",
       "      <td>None</td>\n",
       "      <td>135 Mississippi St</td>\n",
       "      <td></td>\n",
       "      <td>94107</td>\n",
       "      <td>San Francisco</td>\n",
       "      <td>CA</td>\n",
       "      <td>USA</td>\n",
       "      <td>37.764726</td>\n",
       "      <td>-122.394523</td>\n",
       "      <td>{'type': 'Point', 'coordinates': [-122.394523,...</td>\n",
       "    </tr>\n",
       "    <tr>\n",
       "      <th>2</th>\n",
       "      <td>Flektor</td>\n",
       "      <td>games_video</td>\n",
       "      <td>NaN</td>\n",
       "      <td>NaN</td>\n",
       "      <td>None</td>\n",
       "      <td>$0</td>\n",
       "      <td>None</td>\n",
       "      <td>8536 National Blvd, Suite A</td>\n",
       "      <td>None</td>\n",
       "      <td>90232</td>\n",
       "      <td>Culver City</td>\n",
       "      <td>CA</td>\n",
       "      <td>USA</td>\n",
       "      <td>34.025958</td>\n",
       "      <td>-118.379768</td>\n",
       "      <td>{'type': 'Point', 'coordinates': [-118.379768,...</td>\n",
       "    </tr>\n",
       "    <tr>\n",
       "      <th>3</th>\n",
       "      <td>Fox Interactive Media</td>\n",
       "      <td>web</td>\n",
       "      <td>0.0</td>\n",
       "      <td>1979.0</td>\n",
       "      <td>None</td>\n",
       "      <td>$0</td>\n",
       "      <td></td>\n",
       "      <td>407 N Maple Dr</td>\n",
       "      <td></td>\n",
       "      <td>90210</td>\n",
       "      <td>Beverly Hills</td>\n",
       "      <td>CA</td>\n",
       "      <td>USA</td>\n",
       "      <td>34.076179</td>\n",
       "      <td>-118.394170</td>\n",
       "      <td>{'type': 'Point', 'coordinates': [-118.39417, ...</td>\n",
       "    </tr>\n",
       "    <tr>\n",
       "      <th>4</th>\n",
       "      <td>Geni</td>\n",
       "      <td>web</td>\n",
       "      <td>18.0</td>\n",
       "      <td>2006.0</td>\n",
       "      <td>None</td>\n",
       "      <td>$16.5M</td>\n",
       "      <td>Headquarters</td>\n",
       "      <td>9229 W. Sunset Blvd.</td>\n",
       "      <td></td>\n",
       "      <td>90069</td>\n",
       "      <td>West Hollywood</td>\n",
       "      <td>CA</td>\n",
       "      <td>USA</td>\n",
       "      <td>34.090368</td>\n",
       "      <td>-118.393064</td>\n",
       "      <td>{'type': 'Point', 'coordinates': [-118.393064,...</td>\n",
       "    </tr>\n",
       "  </tbody>\n",
       "</table>\n",
       "</div>"
      ],
      "text/plain": [
       "                    name category_code  number_of_employees  founded_year  \\\n",
       "0                Postini           web                  NaN        1999.0   \n",
       "1                   Digg          news                 60.0        2004.0   \n",
       "2                Flektor   games_video                  NaN           NaN   \n",
       "3  Fox Interactive Media           web                  0.0        1979.0   \n",
       "4                   Geni           web                 18.0        2006.0   \n",
       "\n",
       "  deadpooled_year total_money_raised   description  \\\n",
       "0            None                 $0          None   \n",
       "1            None               $45M          None   \n",
       "2            None                 $0          None   \n",
       "3            None                 $0                 \n",
       "4            None             $16.5M  Headquarters   \n",
       "\n",
       "                      address1 address2 zip_code            city state_code  \\\n",
       "0   959 Skyway Road, Suite 200     None    94070      San Carlos         CA   \n",
       "1           135 Mississippi St             94107   San Francisco         CA   \n",
       "2  8536 National Blvd, Suite A     None    90232     Culver City         CA   \n",
       "3               407 N Maple Dr             90210   Beverly Hills         CA   \n",
       "4         9229 W. Sunset Blvd.             90069  West Hollywood         CA   \n",
       "\n",
       "  country_code   latitude   longitude  \\\n",
       "0          USA  37.506885 -122.247573   \n",
       "1          USA  37.764726 -122.394523   \n",
       "2          USA  34.025958 -118.379768   \n",
       "3          USA  34.076179 -118.394170   \n",
       "4          USA  34.090368 -118.393064   \n",
       "\n",
       "                                            location  \n",
       "0  {'type': 'Point', 'coordinates': [-122.247573,...  \n",
       "1  {'type': 'Point', 'coordinates': [-122.394523,...  \n",
       "2  {'type': 'Point', 'coordinates': [-118.379768,...  \n",
       "3  {'type': 'Point', 'coordinates': [-118.39417, ...  \n",
       "4  {'type': 'Point', 'coordinates': [-118.393064,...  "
      ]
     },
     "execution_count": 9,
     "metadata": {},
     "output_type": "execute_result"
    }
   ],
   "source": [
    "df2.head()"
   ]
  },
  {
   "cell_type": "markdown",
   "metadata": {},
   "source": [
    "- Exportamos como json para hacer consultas/modificar información"
   ]
  },
  {
   "cell_type": "code",
   "execution_count": null,
   "metadata": {},
   "outputs": [],
   "source": [
    "df2.to_json(\"../OUTPUT/first_order\", orient=\"records\")"
   ]
  },
  {
   "cell_type": "markdown",
   "metadata": {},
   "source": [
    "- Importamos de nuevo el primer json limpio y filtramos solo por localizaciones con coordenadas"
   ]
  },
  {
   "cell_type": "code",
   "execution_count": 10,
   "metadata": {},
   "outputs": [],
   "source": [
    "query2 = {'location':{'$ne':None}}"
   ]
  },
  {
   "cell_type": "code",
   "execution_count": 11,
   "metadata": {},
   "outputs": [],
   "source": [
    "data2 = list(db[\"first_order\"].find(query2,{\"_id\":0}))\n",
    "\n",
    "first_order = pd.DataFrame(data2)"
   ]
  },
  {
   "cell_type": "code",
   "execution_count": 13,
   "metadata": {},
   "outputs": [
    {
     "data": {
      "text/plain": [
       "0"
      ]
     },
     "execution_count": 13,
     "metadata": {},
     "output_type": "execute_result"
    }
   ],
   "source": [
    "first_order.location.isnull().sum()"
   ]
  },
  {
   "cell_type": "markdown",
   "metadata": {},
   "source": [
    "- Categorizamos las compañías según actividad para quedarnos solo con las tecnológicas"
   ]
  },
  {
   "cell_type": "code",
   "execution_count": 14,
   "metadata": {},
   "outputs": [],
   "source": [
    "tech_comp = [\"web\",\"software\",\"mobile\",\"games_video\",\"ecommerce\",\"network_hosting\",\"hardware\",\"biotech\",\"cleantech\",\"analytics\",\"semiconductor\",\"photo_video\",\"software\",\"nanotech\"]\n",
    "\n",
    "first_order[\"tech_company\"] = df[\"category_code\"].apply(lambda x: \"yes\" if x in tech_comp else \"no\")"
   ]
  },
  {
   "cell_type": "code",
   "execution_count": 17,
   "metadata": {},
   "outputs": [
    {
     "data": {
      "text/html": [
       "<div>\n",
       "<style scoped>\n",
       "    .dataframe tbody tr th:only-of-type {\n",
       "        vertical-align: middle;\n",
       "    }\n",
       "\n",
       "    .dataframe tbody tr th {\n",
       "        vertical-align: top;\n",
       "    }\n",
       "\n",
       "    .dataframe thead th {\n",
       "        text-align: right;\n",
       "    }\n",
       "</style>\n",
       "<table border=\"1\" class=\"dataframe\">\n",
       "  <thead>\n",
       "    <tr style=\"text-align: right;\">\n",
       "      <th></th>\n",
       "      <th>name</th>\n",
       "      <th>category_code</th>\n",
       "      <th>number_of_employees</th>\n",
       "      <th>founded_year</th>\n",
       "      <th>deadpooled_year</th>\n",
       "      <th>total_money_raised</th>\n",
       "      <th>description</th>\n",
       "      <th>address1</th>\n",
       "      <th>address2</th>\n",
       "      <th>zip_code</th>\n",
       "      <th>city</th>\n",
       "      <th>state_code</th>\n",
       "      <th>country_code</th>\n",
       "      <th>latitude</th>\n",
       "      <th>longitude</th>\n",
       "      <th>location</th>\n",
       "      <th>tech_company</th>\n",
       "    </tr>\n",
       "  </thead>\n",
       "  <tbody>\n",
       "    <tr>\n",
       "      <th>0</th>\n",
       "      <td>Fox Interactive Media</td>\n",
       "      <td>web</td>\n",
       "      <td>0.0</td>\n",
       "      <td>1979.0</td>\n",
       "      <td>None</td>\n",
       "      <td>$0</td>\n",
       "      <td></td>\n",
       "      <td>407 N Maple Dr</td>\n",
       "      <td></td>\n",
       "      <td>90210</td>\n",
       "      <td>Beverly Hills</td>\n",
       "      <td>CA</td>\n",
       "      <td>USA</td>\n",
       "      <td>34.076179</td>\n",
       "      <td>-118.394170</td>\n",
       "      <td>{'type': 'Point', 'coordinates': [-118.39417, ...</td>\n",
       "      <td>yes</td>\n",
       "    </tr>\n",
       "    <tr>\n",
       "      <th>1</th>\n",
       "      <td>Flektor</td>\n",
       "      <td>games_video</td>\n",
       "      <td>NaN</td>\n",
       "      <td>NaN</td>\n",
       "      <td>None</td>\n",
       "      <td>$0</td>\n",
       "      <td>None</td>\n",
       "      <td>8536 National Blvd, Suite A</td>\n",
       "      <td>None</td>\n",
       "      <td>90232</td>\n",
       "      <td>Culver City</td>\n",
       "      <td>CA</td>\n",
       "      <td>USA</td>\n",
       "      <td>34.025958</td>\n",
       "      <td>-118.379768</td>\n",
       "      <td>{'type': 'Point', 'coordinates': [-118.379768,...</td>\n",
       "      <td>no</td>\n",
       "    </tr>\n",
       "    <tr>\n",
       "      <th>2</th>\n",
       "      <td>Postini</td>\n",
       "      <td>web</td>\n",
       "      <td>NaN</td>\n",
       "      <td>1999.0</td>\n",
       "      <td>None</td>\n",
       "      <td>$0</td>\n",
       "      <td>None</td>\n",
       "      <td>959 Skyway Road, Suite 200</td>\n",
       "      <td>None</td>\n",
       "      <td>94070</td>\n",
       "      <td>San Carlos</td>\n",
       "      <td>CA</td>\n",
       "      <td>USA</td>\n",
       "      <td>37.506885</td>\n",
       "      <td>-122.247573</td>\n",
       "      <td>{'type': 'Point', 'coordinates': [-122.247573,...</td>\n",
       "      <td>yes</td>\n",
       "    </tr>\n",
       "    <tr>\n",
       "      <th>3</th>\n",
       "      <td>Geni</td>\n",
       "      <td>web</td>\n",
       "      <td>18.0</td>\n",
       "      <td>2006.0</td>\n",
       "      <td>None</td>\n",
       "      <td>$16.5M</td>\n",
       "      <td>Headquarters</td>\n",
       "      <td>9229 W. Sunset Blvd.</td>\n",
       "      <td></td>\n",
       "      <td>90069</td>\n",
       "      <td>West Hollywood</td>\n",
       "      <td>CA</td>\n",
       "      <td>USA</td>\n",
       "      <td>34.090368</td>\n",
       "      <td>-118.393064</td>\n",
       "      <td>{'type': 'Point', 'coordinates': [-118.393064,...</td>\n",
       "      <td>yes</td>\n",
       "    </tr>\n",
       "    <tr>\n",
       "      <th>4</th>\n",
       "      <td>Digg</td>\n",
       "      <td>news</td>\n",
       "      <td>60.0</td>\n",
       "      <td>2004.0</td>\n",
       "      <td>None</td>\n",
       "      <td>$45M</td>\n",
       "      <td>None</td>\n",
       "      <td>135 Mississippi St</td>\n",
       "      <td></td>\n",
       "      <td>94107</td>\n",
       "      <td>San Francisco</td>\n",
       "      <td>CA</td>\n",
       "      <td>USA</td>\n",
       "      <td>37.764726</td>\n",
       "      <td>-122.394523</td>\n",
       "      <td>{'type': 'Point', 'coordinates': [-122.394523,...</td>\n",
       "      <td>yes</td>\n",
       "    </tr>\n",
       "  </tbody>\n",
       "</table>\n",
       "</div>"
      ],
      "text/plain": [
       "                    name category_code  number_of_employees  founded_year  \\\n",
       "0  Fox Interactive Media           web                  0.0        1979.0   \n",
       "1                Flektor   games_video                  NaN           NaN   \n",
       "2                Postini           web                  NaN        1999.0   \n",
       "3                   Geni           web                 18.0        2006.0   \n",
       "4                   Digg          news                 60.0        2004.0   \n",
       "\n",
       "  deadpooled_year total_money_raised   description  \\\n",
       "0            None                 $0                 \n",
       "1            None                 $0          None   \n",
       "2            None                 $0          None   \n",
       "3            None             $16.5M  Headquarters   \n",
       "4            None               $45M          None   \n",
       "\n",
       "                      address1 address2 zip_code            city state_code  \\\n",
       "0               407 N Maple Dr             90210   Beverly Hills         CA   \n",
       "1  8536 National Blvd, Suite A     None    90232     Culver City         CA   \n",
       "2   959 Skyway Road, Suite 200     None    94070      San Carlos         CA   \n",
       "3         9229 W. Sunset Blvd.             90069  West Hollywood         CA   \n",
       "4           135 Mississippi St             94107   San Francisco         CA   \n",
       "\n",
       "  country_code   latitude   longitude  \\\n",
       "0          USA  34.076179 -118.394170   \n",
       "1          USA  34.025958 -118.379768   \n",
       "2          USA  37.506885 -122.247573   \n",
       "3          USA  34.090368 -118.393064   \n",
       "4          USA  37.764726 -122.394523   \n",
       "\n",
       "                                            location tech_company  \n",
       "0  {'type': 'Point', 'coordinates': [-118.39417, ...          yes  \n",
       "1  {'type': 'Point', 'coordinates': [-118.379768,...           no  \n",
       "2  {'type': 'Point', 'coordinates': [-122.247573,...          yes  \n",
       "3  {'type': 'Point', 'coordinates': [-118.393064,...          yes  \n",
       "4  {'type': 'Point', 'coordinates': [-122.394523,...          yes  "
      ]
     },
     "execution_count": 17,
     "metadata": {},
     "output_type": "execute_result"
    }
   ],
   "source": [
    "first_order.head()"
   ]
  },
  {
   "cell_type": "markdown",
   "metadata": {},
   "source": [
    "- Comprobamos que la mayoría de las empresas tecnológicas se sitúan en San Francisco, por tanto, ésta será la ciudad en la que buscaremos donde posicionarnos"
   ]
  },
  {
   "cell_type": "code",
   "execution_count": 26,
   "metadata": {},
   "outputs": [
    {
     "data": {
      "text/plain": [
       "San Francisco    399\n",
       "New York         335\n",
       "London           184\n",
       "                 153\n",
       "Austin            90\n",
       "Name: city, dtype: int64"
      ]
     },
     "execution_count": 26,
     "metadata": {},
     "output_type": "execute_result"
    }
   ],
   "source": [
    "tech = first_order.loc[first_order['tech_company'] == 'yes']\n",
    "\n",
    "tech.city.value_counts().head(5)"
   ]
  },
  {
   "cell_type": "markdown",
   "metadata": {},
   "source": [
    "- Dejamos filtrado el dataset por las compañías ubicadas en San Francisco cuya actividad se centra en el entorno tecnológico para guardar el fichero final"
   ]
  },
  {
   "cell_type": "code",
   "execution_count": 27,
   "metadata": {},
   "outputs": [],
   "source": [
    "tech = tech.loc[tech['city'] == 'San Francisco']"
   ]
  },
  {
   "cell_type": "code",
   "execution_count": null,
   "metadata": {},
   "outputs": [],
   "source": [
    "tech.to_json(\"../OUTPUT/tech_companies\", orient=\"records\")"
   ]
  },
  {
   "cell_type": "markdown",
   "metadata": {},
   "source": [
    "#### STARBUCKS"
   ]
  },
  {
   "cell_type": "markdown",
   "metadata": {},
   "source": [
    "- Importamos el csv que contiene todos los starbucks"
   ]
  },
  {
   "cell_type": "code",
   "execution_count": 17,
   "metadata": {},
   "outputs": [],
   "source": [
    "starbucks = pd.read_csv('../INPUT/starbucks_us_locations.csv')"
   ]
  },
  {
   "cell_type": "code",
   "execution_count": 18,
   "metadata": {},
   "outputs": [
    {
     "data": {
      "text/html": [
       "<div>\n",
       "<style scoped>\n",
       "    .dataframe tbody tr th:only-of-type {\n",
       "        vertical-align: middle;\n",
       "    }\n",
       "\n",
       "    .dataframe tbody tr th {\n",
       "        vertical-align: top;\n",
       "    }\n",
       "\n",
       "    .dataframe thead th {\n",
       "        text-align: right;\n",
       "    }\n",
       "</style>\n",
       "<table border=\"1\" class=\"dataframe\">\n",
       "  <thead>\n",
       "    <tr style=\"text-align: right;\">\n",
       "      <th></th>\n",
       "      <th>longitude</th>\n",
       "      <th>latitude</th>\n",
       "      <th>city</th>\n",
       "      <th>adress</th>\n",
       "    </tr>\n",
       "  </thead>\n",
       "  <tbody>\n",
       "    <tr>\n",
       "      <th>0</th>\n",
       "      <td>-149.905495</td>\n",
       "      <td>61.195339</td>\n",
       "      <td>Starbucks - AK - Anchorage  00002</td>\n",
       "      <td>Carrs-Anchorage #1805_1650 W Northern Lights B...</td>\n",
       "    </tr>\n",
       "    <tr>\n",
       "      <th>1</th>\n",
       "      <td>-149.752200</td>\n",
       "      <td>61.229700</td>\n",
       "      <td>Starbucks - AK - Anchorage  00003</td>\n",
       "      <td>Elmendorf AFB_Bldg 5800 Westover Avenue_Anchor...</td>\n",
       "    </tr>\n",
       "    <tr>\n",
       "      <th>2</th>\n",
       "      <td>-149.864336</td>\n",
       "      <td>61.195251</td>\n",
       "      <td>Starbucks - AK - Anchorage  00004</td>\n",
       "      <td>Fred Meyer - Anchorage #11_1000 E Northern Lig...</td>\n",
       "    </tr>\n",
       "    <tr>\n",
       "      <th>3</th>\n",
       "      <td>-149.837973</td>\n",
       "      <td>61.137514</td>\n",
       "      <td>Starbucks - AK - Anchorage  00005</td>\n",
       "      <td>Fred Meyer - Anchorage #656_2300 Abbott Road_A...</td>\n",
       "    </tr>\n",
       "    <tr>\n",
       "      <th>4</th>\n",
       "      <td>-149.909279</td>\n",
       "      <td>61.139947</td>\n",
       "      <td>Starbucks - AK - Anchorage  00006</td>\n",
       "      <td>Fred Meyer - Anchorage (Dimond) #71_2000 W Dim...</td>\n",
       "    </tr>\n",
       "  </tbody>\n",
       "</table>\n",
       "</div>"
      ],
      "text/plain": [
       "    longitude   latitude                               city  \\\n",
       "0 -149.905495  61.195339  Starbucks - AK - Anchorage  00002   \n",
       "1 -149.752200  61.229700  Starbucks - AK - Anchorage  00003   \n",
       "2 -149.864336  61.195251  Starbucks - AK - Anchorage  00004   \n",
       "3 -149.837973  61.137514  Starbucks - AK - Anchorage  00005   \n",
       "4 -149.909279  61.139947  Starbucks - AK - Anchorage  00006   \n",
       "\n",
       "                                              adress  \n",
       "0  Carrs-Anchorage #1805_1650 W Northern Lights B...  \n",
       "1  Elmendorf AFB_Bldg 5800 Westover Avenue_Anchor...  \n",
       "2  Fred Meyer - Anchorage #11_1000 E Northern Lig...  \n",
       "3  Fred Meyer - Anchorage #656_2300 Abbott Road_A...  \n",
       "4  Fred Meyer - Anchorage (Dimond) #71_2000 W Dim...  "
      ]
     },
     "execution_count": 18,
     "metadata": {},
     "output_type": "execute_result"
    }
   ],
   "source": [
    "starbucks.columns = ['longitude','latitude','city','adress']\n",
    "starbucks.head()"
   ]
  },
  {
   "cell_type": "markdown",
   "metadata": {},
   "source": [
    "- Convertimos la columna 'location' en string para poder aplicar el filtro de localizar los starbucks de San Francisco"
   ]
  },
  {
   "cell_type": "code",
   "execution_count": 19,
   "metadata": {},
   "outputs": [],
   "source": [
    "starbucks['city'] = starbucks['city'].astype(str)"
   ]
  },
  {
   "cell_type": "code",
   "execution_count": 20,
   "metadata": {},
   "outputs": [],
   "source": [
    "starbucks['San_Francisco'] = starbucks['city'].apply(lambda x: 'yes' if 'San Francisco' in x else 'no')"
   ]
  },
  {
   "cell_type": "markdown",
   "metadata": {},
   "source": [
    "- Comprobamos que hay 81 starbucks en San Francisco. Dejamos el dataset filtrado por éstos y preparamos las coordenadas para las geoqueries en MongoDB."
   ]
  },
  {
   "cell_type": "code",
   "execution_count": 21,
   "metadata": {},
   "outputs": [
    {
     "data": {
      "text/plain": [
       "81"
      ]
     },
     "execution_count": 21,
     "metadata": {},
     "output_type": "execute_result"
    }
   ],
   "source": [
    "sf = starbucks.loc[starbucks['San_Francisco'] == 'yes']\n",
    "sf.city.value_counts().sum()"
   ]
  },
  {
   "cell_type": "code",
   "execution_count": 23,
   "metadata": {},
   "outputs": [
    {
     "name": "stderr",
     "output_type": "stream",
     "text": [
      "/usr/local/lib/python3.6/dist-packages/ipykernel_launcher.py:1: SettingWithCopyWarning: \n",
      "A value is trying to be set on a copy of a slice from a DataFrame.\n",
      "Try using .loc[row_indexer,col_indexer] = value instead\n",
      "\n",
      "See the caveats in the documentation: http://pandas.pydata.org/pandas-docs/stable/user_guide/indexing.html#returning-a-view-versus-a-copy\n",
      "  \"\"\"Entry point for launching an IPython kernel.\n"
     ]
    }
   ],
   "source": [
    "sf['location'] = sf[['latitude','longitude']].apply(lambda x:f.coorFormat(x.latitude,x.longitude), axis=1)"
   ]
  },
  {
   "cell_type": "code",
   "execution_count": 24,
   "metadata": {},
   "outputs": [
    {
     "name": "stderr",
     "output_type": "stream",
     "text": [
      "/usr/local/lib/python3.6/dist-packages/pandas/core/frame.py:4117: SettingWithCopyWarning: \n",
      "A value is trying to be set on a copy of a slice from a DataFrame\n",
      "\n",
      "See the caveats in the documentation: http://pandas.pydata.org/pandas-docs/stable/user_guide/indexing.html#returning-a-view-versus-a-copy\n",
      "  errors=errors,\n"
     ]
    }
   ],
   "source": [
    "sf.drop('San_Francisco', axis=1, inplace=True)"
   ]
  },
  {
   "cell_type": "code",
   "execution_count": 25,
   "metadata": {},
   "outputs": [],
   "source": [
    "sf = sf.reset_index()"
   ]
  },
  {
   "cell_type": "code",
   "execution_count": 26,
   "metadata": {
    "scrolled": true
   },
   "outputs": [],
   "source": [
    "sf.drop('index', axis=1, inplace=True)"
   ]
  },
  {
   "cell_type": "code",
   "execution_count": 35,
   "metadata": {},
   "outputs": [],
   "source": [
    "sf.to_json('../OUTPUT/starbucks.json', orient=\"records\")"
   ]
  },
  {
   "cell_type": "markdown",
   "metadata": {},
   "source": [
    "#### PUBS"
   ]
  },
  {
   "cell_type": "markdown",
   "metadata": {},
   "source": [
    "- Obtenemos las coordenadas de los pubs de San Francisco mediante la API Google Places."
   ]
  },
  {
   "cell_type": "code",
   "execution_count": 2,
   "metadata": {},
   "outputs": [],
   "source": [
    "pubs = f.googlePlaces('pubs in san francisco')"
   ]
  },
  {
   "cell_type": "markdown",
   "metadata": {},
   "source": [
    "- Sacamos las coordenadas y los nombres y convertimos en DataFrame para adaptar las coordenadas."
   ]
  },
  {
   "cell_type": "code",
   "execution_count": 5,
   "metadata": {},
   "outputs": [
    {
     "data": {
      "text/html": [
       "<div>\n",
       "<style scoped>\n",
       "    .dataframe tbody tr th:only-of-type {\n",
       "        vertical-align: middle;\n",
       "    }\n",
       "\n",
       "    .dataframe tbody tr th {\n",
       "        vertical-align: top;\n",
       "    }\n",
       "\n",
       "    .dataframe thead th {\n",
       "        text-align: right;\n",
       "    }\n",
       "</style>\n",
       "<table border=\"1\" class=\"dataframe\">\n",
       "  <thead>\n",
       "    <tr style=\"text-align: right;\">\n",
       "      <th></th>\n",
       "      <th>name</th>\n",
       "      <th>latitude</th>\n",
       "      <th>longitude</th>\n",
       "      <th>location</th>\n",
       "    </tr>\n",
       "  </thead>\n",
       "  <tbody>\n",
       "    <tr>\n",
       "      <th>0</th>\n",
       "      <td>The Chieftain Irish Pub &amp; Restaurant</td>\n",
       "      <td>37.781464</td>\n",
       "      <td>-122.405287</td>\n",
       "      <td>{'type': 'Point', 'coordinates': [-122.4052868...</td>\n",
       "    </tr>\n",
       "    <tr>\n",
       "      <th>1</th>\n",
       "      <td>Black Horse London Pub</td>\n",
       "      <td>37.798600</td>\n",
       "      <td>-122.424482</td>\n",
       "      <td>{'type': 'Point', 'coordinates': [-122.4244825...</td>\n",
       "    </tr>\n",
       "    <tr>\n",
       "      <th>2</th>\n",
       "      <td>Edinburgh Castle Pub</td>\n",
       "      <td>37.786127</td>\n",
       "      <td>-122.418957</td>\n",
       "      <td>{'type': 'Point', 'coordinates': [-122.4189571...</td>\n",
       "    </tr>\n",
       "    <tr>\n",
       "      <th>3</th>\n",
       "      <td>Johnny Foley's Irish House</td>\n",
       "      <td>37.786208</td>\n",
       "      <td>-122.408753</td>\n",
       "      <td>{'type': 'Point', 'coordinates': [-122.4087528...</td>\n",
       "    </tr>\n",
       "    <tr>\n",
       "      <th>4</th>\n",
       "      <td>The Pub</td>\n",
       "      <td>37.806256</td>\n",
       "      <td>-122.422714</td>\n",
       "      <td>{'type': 'Point', 'coordinates': [-122.4227139...</td>\n",
       "    </tr>\n",
       "  </tbody>\n",
       "</table>\n",
       "</div>"
      ],
      "text/plain": [
       "                                   name   latitude   longitude  \\\n",
       "0  The Chieftain Irish Pub & Restaurant  37.781464 -122.405287   \n",
       "1                Black Horse London Pub  37.798600 -122.424482   \n",
       "2                  Edinburgh Castle Pub  37.786127 -122.418957   \n",
       "3            Johnny Foley's Irish House  37.786208 -122.408753   \n",
       "4                               The Pub  37.806256 -122.422714   \n",
       "\n",
       "                                            location  \n",
       "0  {'type': 'Point', 'coordinates': [-122.4052868...  \n",
       "1  {'type': 'Point', 'coordinates': [-122.4244825...  \n",
       "2  {'type': 'Point', 'coordinates': [-122.4189571...  \n",
       "3  {'type': 'Point', 'coordinates': [-122.4087528...  \n",
       "4  {'type': 'Point', 'coordinates': [-122.4227139...  "
      ]
     },
     "execution_count": 5,
     "metadata": {},
     "output_type": "execute_result"
    }
   ],
   "source": [
    "df_pubs = f.cleaningPoints(pubs)\n",
    "df_pubs.head()"
   ]
  },
  {
   "cell_type": "code",
   "execution_count": 8,
   "metadata": {},
   "outputs": [],
   "source": [
    "df_pubs.to_json(\"../OUTPUT/pubs.json\", orient=\"records\")"
   ]
  },
  {
   "cell_type": "markdown",
   "metadata": {},
   "source": [
    "#### ESCUELAS"
   ]
  },
  {
   "cell_type": "markdown",
   "metadata": {},
   "source": [
    "-  Obtenemos las coordenadas de los colegios en San Francisco mediante la API Google Places."
   ]
  },
  {
   "cell_type": "code",
   "execution_count": 6,
   "metadata": {},
   "outputs": [],
   "source": [
    "schools = f.googlePlaces('schools in san francisco')"
   ]
  },
  {
   "cell_type": "markdown",
   "metadata": {},
   "source": [
    "- Sacamos las coordenadas y los nombres y convertimos en DataFrame para adaptar las coordenadas."
   ]
  },
  {
   "cell_type": "code",
   "execution_count": 7,
   "metadata": {},
   "outputs": [
    {
     "data": {
      "text/html": [
       "<div>\n",
       "<style scoped>\n",
       "    .dataframe tbody tr th:only-of-type {\n",
       "        vertical-align: middle;\n",
       "    }\n",
       "\n",
       "    .dataframe tbody tr th {\n",
       "        vertical-align: top;\n",
       "    }\n",
       "\n",
       "    .dataframe thead th {\n",
       "        text-align: right;\n",
       "    }\n",
       "</style>\n",
       "<table border=\"1\" class=\"dataframe\">\n",
       "  <thead>\n",
       "    <tr style=\"text-align: right;\">\n",
       "      <th></th>\n",
       "      <th>name</th>\n",
       "      <th>latitude</th>\n",
       "      <th>longitude</th>\n",
       "      <th>location</th>\n",
       "    </tr>\n",
       "  </thead>\n",
       "  <tbody>\n",
       "    <tr>\n",
       "      <th>0</th>\n",
       "      <td>San Francisco University High School</td>\n",
       "      <td>37.790890</td>\n",
       "      <td>-122.445465</td>\n",
       "      <td>{'type': 'Point', 'coordinates': [-122.4454646...</td>\n",
       "    </tr>\n",
       "    <tr>\n",
       "      <th>1</th>\n",
       "      <td>International High School</td>\n",
       "      <td>37.775382</td>\n",
       "      <td>-122.421637</td>\n",
       "      <td>{'type': 'Point', 'coordinates': [-122.4216371...</td>\n",
       "    </tr>\n",
       "    <tr>\n",
       "      <th>2</th>\n",
       "      <td>Urban School of San Francisco</td>\n",
       "      <td>37.770934</td>\n",
       "      <td>-122.445942</td>\n",
       "      <td>{'type': 'Point', 'coordinates': [-122.445942,...</td>\n",
       "    </tr>\n",
       "    <tr>\n",
       "      <th>3</th>\n",
       "      <td>The Bay School of San Francisco</td>\n",
       "      <td>37.800779</td>\n",
       "      <td>-122.455646</td>\n",
       "      <td>{'type': 'Point', 'coordinates': [-122.455646,...</td>\n",
       "    </tr>\n",
       "    <tr>\n",
       "      <th>4</th>\n",
       "      <td>San Francisco School</td>\n",
       "      <td>37.732782</td>\n",
       "      <td>-122.411353</td>\n",
       "      <td>{'type': 'Point', 'coordinates': [-122.4113534...</td>\n",
       "    </tr>\n",
       "  </tbody>\n",
       "</table>\n",
       "</div>"
      ],
      "text/plain": [
       "                                   name   latitude   longitude  \\\n",
       "0  San Francisco University High School  37.790890 -122.445465   \n",
       "1             International High School  37.775382 -122.421637   \n",
       "2         Urban School of San Francisco  37.770934 -122.445942   \n",
       "3       The Bay School of San Francisco  37.800779 -122.455646   \n",
       "4                  San Francisco School  37.732782 -122.411353   \n",
       "\n",
       "                                            location  \n",
       "0  {'type': 'Point', 'coordinates': [-122.4454646...  \n",
       "1  {'type': 'Point', 'coordinates': [-122.4216371...  \n",
       "2  {'type': 'Point', 'coordinates': [-122.445942,...  \n",
       "3  {'type': 'Point', 'coordinates': [-122.455646,...  \n",
       "4  {'type': 'Point', 'coordinates': [-122.4113534...  "
      ]
     },
     "execution_count": 7,
     "metadata": {},
     "output_type": "execute_result"
    }
   ],
   "source": [
    "df_schools = f.cleaningPoints(schools)\n",
    "df_schools.head()"
   ]
  },
  {
   "cell_type": "code",
   "execution_count": 9,
   "metadata": {},
   "outputs": [],
   "source": [
    "df_schools.to_json(\"../OUTPUT/schools.json\", orient=\"records\")"
   ]
  }
 ],
 "metadata": {
  "kernelspec": {
   "display_name": "Python 3",
   "language": "python",
   "name": "python3"
  },
  "language_info": {
   "codemirror_mode": {
    "name": "ipython",
    "version": 3
   },
   "file_extension": ".py",
   "mimetype": "text/x-python",
   "name": "python",
   "nbconvert_exporter": "python",
   "pygments_lexer": "ipython3",
   "version": "3.6.9"
  }
 },
 "nbformat": 4,
 "nbformat_minor": 2
}
